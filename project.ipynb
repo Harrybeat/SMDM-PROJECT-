{
 "cells": [
  {
   "cell_type": "code",
   "execution_count": null,
   "id": "ac03a8d1-b915-4211-ae33-9afb75dff8d0",
   "metadata": {},
   "outputs": [],
   "source": [
    "data analaysis project\n",
    "1:problem statement\n",
    "data collection\n",
    "data profiling and understanding\n",
    "data cleaning\n",
    "data visulization\n",
    "report"
   ]
  }
 ],
 "metadata": {
  "kernelspec": {
   "display_name": "Python 3 (ipykernel)",
   "language": "python",
   "name": "python3"
  },
  "language_info": {
   "codemirror_mode": {
    "name": "ipython",
    "version": 3
   },
   "file_extension": ".py",
   "mimetype": "text/x-python",
   "name": "python",
   "nbconvert_exporter": "python",
   "pygments_lexer": "ipython3",
   "version": "3.12.7"
  }
 },
 "nbformat": 4,
 "nbformat_minor": 5
}
